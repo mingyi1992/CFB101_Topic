{
 "cells": [
  {
   "cell_type": "markdown",
   "id": "719b23b1",
   "metadata": {},
   "source": [
    "### 傳送資料至mySQL"
   ]
  },
  {
   "cell_type": "code",
   "execution_count": null,
   "id": "b833d4ba",
   "metadata": {},
   "outputs": [],
   "source": [
    "!pip install mysqlclient"
   ]
  },
  {
   "cell_type": "code",
   "execution_count": null,
   "id": "b300221a",
   "metadata": {},
   "outputs": [],
   "source": [
    "import csv\n",
    "import pandas as pd\n",
    "from sqlalchemy import create_engine, types"
   ]
  },
  {
   "cell_type": "code",
   "execution_count": null,
   "id": "84f3b062",
   "metadata": {},
   "outputs": [],
   "source": [
    "# 輸入以下資料 - 這邊是連線要用\n",
    "# (1)使用者名稱\n",
    "# (2)密碼 *註:最好要有密碼，不然有可能會出現bug\n",
    "# (3)輸入IP地址，本機端的話輸入localhost或127.0.0.1\n",
    "# (4)資料庫名稱，資料庫必須預先架設好\n",
    "\n",
    "# (5)資料表名稱，資料表可以不用事前做沒關係；schema如果沒給的話系統會自訂，方便但較占資源。 - 這邊是傳資料要用\n",
    "\n",
    "# 填寫基本資料，資料需為\"字串\"\n",
    "user = \n",
    "password = \n",
    "host = \n",
    "dbname = \n",
    "tablename = \n",
    "\n",
    "# 建立連線\n",
    "engine = create_engine('mysql+pymysql://{}:{}@{}/{}'.format(user,password,host,dbname))\n",
    "# 讀取要上傳的檔案\n",
    "df = pd.read_csv('./FDA_EN_GOOGLE.csv',sep=',',encoding='utf8')\n",
    "# 設定要上傳的檔案資料\n",
    "df.to_sql(tablename,con=engine,index=False,if_exists='append') "
   ]
  }
 ],
 "metadata": {
  "kernelspec": {
   "display_name": "Python 3",
   "language": "python",
   "name": "python3"
  },
  "language_info": {
   "codemirror_mode": {
    "name": "ipython",
    "version": 3
   },
   "file_extension": ".py",
   "mimetype": "text/x-python",
   "name": "python",
   "nbconvert_exporter": "python",
   "pygments_lexer": "ipython3",
   "version": "3.6.8"
  }
 },
 "nbformat": 4,
 "nbformat_minor": 5
}
