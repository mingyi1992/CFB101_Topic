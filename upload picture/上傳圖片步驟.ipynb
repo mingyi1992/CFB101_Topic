{
 "cells": [
  {
   "cell_type": "code",
   "execution_count": 11,
   "id": "889c6735",
   "metadata": {},
   "outputs": [],
   "source": [
    "from imgur_python import Imgur\n",
    "import json"
   ]
  },
  {
   "cell_type": "code",
   "execution_count": 12,
   "id": "200e428b",
   "metadata": {},
   "outputs": [],
   "source": [
    "with open (\"./key.json\",\"r\",encoding=\"utf-8\") as k:\n",
    "    keydata=json.load(k)\n",
    "filename = \"./convenient2.jpg\"\n",
    "IMGUR_CONFIG = {\n",
    "  \"client_id\": keydata[\"client_id\"],\n",
    "  \"client_secret\": keydata[\"client_secret\"],\n",
    "  \"access_token\": keydata[\"access_token\"],\n",
    "  \"refresh_token\": keydata[\"refresh_token\"]\n",
    "}\n",
    "IMGUR_CLIENT = Imgur(config=IMGUR_CONFIG)\n",
    "image = IMGUR_CLIENT.image_upload(\n",
    "  filename, \"title\", \"description\")\n",
    "link = image[\"response\"][\"data\"][\"link\"]"
   ]
  },
  {
   "cell_type": "code",
   "execution_count": 13,
   "id": "4fd55def",
   "metadata": {},
   "outputs": [
    {
     "data": {
      "text/plain": [
       "'https://i.imgur.com/PaZp7H9.jpeg'"
      ]
     },
     "execution_count": 13,
     "metadata": {},
     "output_type": "execute_result"
    }
   ],
   "source": [
    "link"
   ]
  },
  {
   "cell_type": "code",
   "execution_count": null,
   "id": "174c9fa3",
   "metadata": {},
   "outputs": [],
   "source": [
    "optimizer       = optim.Adam(net.parameters(),lr)\n",
    "if Cosine_lr:\n",
    "    lr_scheduler = optim.lr_scheduler.CosineAnnealingLR(optimizer, T_max=5, eta_min=1e-5)\n",
    "else:\n",
    "    lr_scheduler = optim.lr_scheduler.StepLR(optimizer, step_size=1, gamma=0.92)\n",
    "\n",
    "train_dataset   = YoloDataset(lines[:num_train], (input_shape[0], input_shape[1]), mosaic=mosaic, is_train=True)\n",
    "val_dataset     = YoloDataset(lines[num_train:], (input_shape[0], input_shape[1]), mosaic=False, is_train=False)\n",
    "gen             = DataLoader(train_dataset, shuffle=True, batch_size=Batch_size, num_workers=4, pin_memory=True,\n",
    "                        drop_last=True, collate_fn=yolo_dataset_collate)\n",
    "gen_val         = DataLoader(val_dataset, shuffle=True, batch_size=Batch_size, num_workers=4,pin_memory=True, \n",
    "                        drop_last=True, collate_fn=yolo_dataset_collate)"
   ]
  },
  {
   "cell_type": "code",
   "execution_count": null,
   "id": "1b7d12d8-959d-4cd5-a843-851cf8855b64",
   "metadata": {},
   "outputs": [],
   "source": [
    "def get_pred(self,img_path):\n",
    "    yolo = YOLO()\n",
    "    mode = \"predict\"\n",
    "    img = str(img_path)\n",
    "    try:\n",
    "        image = Image.open(img)\n",
    "    except:\n",
    "        print('Open Error! Try again!')\n",
    "    c_name = yolo.class_image(image)\n",
    "    return (c_name)"
   ]
  },
  {
   "cell_type": "code",
   "execution_count": null,
   "id": "eded0e5c-63a0-4198-a923-49872ecf5dcb",
   "metadata": {},
   "outputs": [],
   "source": [
    "if Tensorboard:\n",
    "    from tensorboardX import SummaryWriter\n",
    "    writer = SummaryWriter(log_dir='logs',flush_secs=60)\n",
    "    if Cuda:\n",
    "        graph_inputs = torch.randn(1,3,input_shape[0],input_shape[1]).type(torch.FloatTensor).cuda()\n",
    "    else:\n",
    "        graph_inputs = torch.randn(1,3,input_shape[0],input_shape[1]).type(torch.FloatTensor)\n",
    "    writer.add_graph(model, graph_inputs)\n",
    "    train_tensorboard_step  = 1\n",
    "    val_tensorboard_step    = 1"
   ]
  },
  {
   "cell_type": "code",
   "execution_count": null,
   "id": "4705fd98-ab72-4e2a-8d28-5fec91ebdd7c",
   "metadata": {},
   "outputs": [],
   "source": []
  },
  {
   "cell_type": "code",
   "execution_count": null,
   "id": "e08aac44-933a-44b3-a460-608716868bdf",
   "metadata": {},
   "outputs": [],
   "source": [
    "lr = 1e-4\n",
    "Batch_size = 2\n",
    "Freeze_Epoch = 50\n",
    "Unfreeze_Epoch = 120"
   ]
  },
  {
   "cell_type": "code",
   "execution_count": null,
   "id": "6cca63e3-b487-4d8d-a58f-1503ad1d6b9d",
   "metadata": {},
   "outputs": [],
   "source": []
  },
  {
   "cell_type": "code",
   "execution_count": null,
   "id": "81aeab67-4c34-4c76-acb4-6d6f89df1923",
   "metadata": {},
   "outputs": [],
   "source": []
  },
  {
   "cell_type": "code",
   "execution_count": null,
   "id": "9f8929e6-689b-4126-ba63-65bcb109d9f4",
   "metadata": {},
   "outputs": [],
   "source": []
  }
 ],
 "metadata": {
  "kernelspec": {
   "display_name": "Python 3",
   "language": "python",
   "name": "python3"
  },
  "language_info": {
   "codemirror_mode": {
    "name": "ipython",
    "version": 3
   },
   "file_extension": ".py",
   "mimetype": "text/x-python",
   "name": "python",
   "nbconvert_exporter": "python",
   "pygments_lexer": "ipython3",
   "version": "3.6.8"
  }
 },
 "nbformat": 4,
 "nbformat_minor": 5
}
