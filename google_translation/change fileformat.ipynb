{
 "cells": [
  {
   "cell_type": "markdown",
   "id": "2aa2e84b",
   "metadata": {},
   "source": [
    "### excel檔轉csv檔"
   ]
  },
  {
   "cell_type": "code",
   "execution_count": null,
   "id": "96d9ef0c",
   "metadata": {},
   "outputs": [],
   "source": [
    "import pandas as pd"
   ]
  },
  {
   "cell_type": "code",
   "execution_count": null,
   "id": "692446b9",
   "metadata": {},
   "outputs": [],
   "source": [
    "# 輸入轉換資料地址\n",
    "csvpath = './cook_dup1_EN.csv'\n",
    "excelpath = './cook_dup1_EN.xlsx'\n",
    "\n",
    "def xlsx_to_csv_pd():\n",
    "    data_xls = pd.read_excel(excelpath, index_col=0)\n",
    "    data_xls.to_csv(csvpath, encoding='utf-8')\n",
    "    \n",
    "if __name__ == '__main__':\n",
    "    try:\n",
    "        xlsx_to_csv_pd()\n",
    "        print('mission complete!')\n",
    "    except:\n",
    "        print('mission fail...')"
   ]
  },
  {
   "cell_type": "markdown",
   "id": "53a4b255",
   "metadata": {},
   "source": [
    "### csv檔轉excel檔"
   ]
  },
  {
   "cell_type": "code",
   "execution_count": null,
   "id": "ba04625c",
   "metadata": {},
   "outputs": [],
   "source": [
    "import pandas as pd"
   ]
  },
  {
   "cell_type": "code",
   "execution_count": null,
   "id": "983fb9df",
   "metadata": {},
   "outputs": [],
   "source": [
    "# 輸入要轉換的檔案地址\n",
    "csvpath = './cook_dup1.csv'\n",
    "excelpath = './cook_dup1.xlsx'\n",
    "\n",
    "def csv_to_xlsx_pd():\n",
    "    csv = pd.read_csv(csvpath, encoding='utf-8')\n",
    "    csv.to_excel(excelpath, sheet_name='data')\n",
    "    \n",
    "if __name__ == '__main__':\n",
    "    try:\n",
    "        csv_to_xlsx_pd()\n",
    "        print('mission complete!')\n",
    "    except:\n",
    "        print('mission fail...')"
   ]
  }
 ],
 "metadata": {
  "kernelspec": {
   "display_name": "Python 3",
   "language": "python",
   "name": "python3"
  },
  "language_info": {
   "codemirror_mode": {
    "name": "ipython",
    "version": 3
   },
   "file_extension": ".py",
   "mimetype": "text/x-python",
   "name": "python",
   "nbconvert_exporter": "python",
   "pygments_lexer": "ipython3",
   "version": "3.6.8"
  }
 },
 "nbformat": 4,
 "nbformat_minor": 5
}
