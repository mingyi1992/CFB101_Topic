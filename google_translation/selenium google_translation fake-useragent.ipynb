{
 "cells": [
  {
   "cell_type": "code",
   "execution_count": 7,
   "id": "5baa46bd",
   "metadata": {},
   "outputs": [],
   "source": [
    "from selenium import webdriver\n",
    "import time\n",
    "from bs4 import BeautifulSoup\n",
    "from selenium import webdriver\n",
    "import pandas as pd\n",
    "import csv\n",
    "from fake_useragent import UserAgent\n",
    "from selenium.webdriver.chrome.options import Options\n",
    "\n",
    "filepath = './fda_cleaning.csv'\n",
    "df = pd.read_csv(filepath)\n",
    "fooddata = df.iloc[:,0]\n",
    "# 訂好輸入/輸出語言(建議輸入直接用auto，比較不容易出錯，反正要sleep)\n",
    "Original_language = 'auto'\n",
    "Transfrom_language = 'en'\n",
    "\n",
    "if __name__==\"__main__\":\n",
    "    FDA_EN=[]\n",
    "    for food in fooddata:\n",
    "        # 增加fake-useragent\n",
    "        ua = UserAgent()\n",
    "        # 設定selenium\n",
    "        options = Options()\n",
    "        driver = webdriver.Chrome('./chromedriver', chrome_options=options)\n",
    "        # 把fake-useragent參數放上去\n",
    "        options.add_argument(ua.random)\n",
    "        # 無頭模式\n",
    "        options.add_argument('--headless')\n",
    "        options.add_argument('--disable-gpu')\n",
    "        # 設定語言\n",
    "        driver.get(\"https://translate.google.com.tw/?hl=zh-TW&tab=TT&sl={}&tl={}\".format(Original_language,Transfrom_language))\n",
    "        # 抓取資料位置\n",
    "        element = driver.find_element_by_xpath('//*[@id=\"yDmH0d\"]/c-wiz/div/div[2]/c-wiz/div[2]/c-wiz/div[1]/div[2]/div[2]/c-wiz[1]/span/span/div/textarea').send_keys(food)\n",
    "        \n",
    "        time.sleep(1)\n",
    "        # 用beautifulsoup解析\n",
    "        soup = BeautifulSoup(driver.page_source, 'html.parser')\n",
    "        try:\n",
    "            en = soup.select('span[jsaction=\"click:qtZ4nf,GFf3ac,tMZCfe; contextmenu:Nqw7Te,QP7LD; mouseout:Nqw7Te; mouseover:qtZ4nf,c2aHje\"]')[0].text\n",
    "        except:\n",
    "            pass\n",
    "        # 關閉driver\n",
    "        driver.quit()\n",
    "        FDA_EN.append(en)\n",
    "    csv_path = 'C:/Users/Tibame_T14/Desktop/FDA_EN.csv'\n",
    "    with open(csv_path, mode=\"w\", encoding=\"utf-8\", newline=\"\") as f:\n",
    "        writer = csv.writer(f, delimiter=\",\")\n",
    "        writer.writerow(FDA_EN)"
   ]
  },
  {
   "cell_type": "code",
   "execution_count": null,
   "id": "19c4f520",
   "metadata": {},
   "outputs": [],
   "source": []
  }
 ],
 "metadata": {
  "kernelspec": {
   "display_name": "Python 3",
   "language": "python",
   "name": "python3"
  },
  "language_info": {
   "codemirror_mode": {
    "name": "ipython",
    "version": 3
   },
   "file_extension": ".py",
   "mimetype": "text/x-python",
   "name": "python",
   "nbconvert_exporter": "python",
   "pygments_lexer": "ipython3",
   "version": "3.6.8"
  }
 },
 "nbformat": 4,
 "nbformat_minor": 5
}
